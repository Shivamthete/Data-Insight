{
 "cells": [
  {
   "cell_type": "markdown",
   "id": "b8093ed2",
   "metadata": {},
   "source": [
    "# Project - Data Insight - Covid data using Python Pandas\n",
    "\n",
    "   ### Name : Shivam Thete\n",
    "   ### Student ID: C0848366\n",
    "   \n",
    "\n",
    "\n",
    "**Understanding the latest Covid-19 data set for Ontario and getting insights using Pandas.**\n"
   ]
  },
  {
   "cell_type": "code",
   "execution_count": 28,
   "id": "079423de",
   "metadata": {},
   "outputs": [],
   "source": [
    "import pandas as pd\n",
    "import numpy as np"
   ]
  },
  {
   "cell_type": "markdown",
   "id": "986a4255",
   "metadata": {},
   "source": [
    "**Loading the Dataset**"
   ]
  },
  {
   "cell_type": "code",
   "execution_count": 29,
   "id": "2a3fa35a",
   "metadata": {},
   "outputs": [
    {
     "name": "stdout",
     "output_type": "stream",
     "text": [
      "             date                    phu_name  phu_num       outbreak_group  \\\n",
      "0      2020-11-01                BRANT COUNTY     2227          4 Workplace   \n",
      "1      2020-11-01                BRANT COUNTY     2227    1 Congregate Care   \n",
      "2      2020-11-01                CHATHAM-KENT     2240       5 Recreational   \n",
      "3      2020-11-01                CHATHAM-KENT     2240      6 Other/Unknown   \n",
      "4      2020-11-01                CHATHAM-KENT     2240          4 Workplace   \n",
      "...           ...                         ...      ...                  ...   \n",
      "47582  2022-03-14  WELLINGTON-DUFFERIN-GUELPH     2266    1 Congregate Care   \n",
      "47583  2022-03-14        WINDSOR-ESSEX COUNTY     2268  2 Congregate Living   \n",
      "47584  2022-03-14        WINDSOR-ESSEX COUNTY     2268    1 Congregate Care   \n",
      "47585  2022-03-14                 YORK REGION     2270  2 Congregate Living   \n",
      "47586  2022-03-14                 YORK REGION     2270    1 Congregate Care   \n",
      "\n",
      "       number_ongoing_outbreaks  \n",
      "0                             1  \n",
      "1                             2  \n",
      "2                             1  \n",
      "3                             1  \n",
      "4                             1  \n",
      "...                         ...  \n",
      "47582                         3  \n",
      "47583                         5  \n",
      "47584                         5  \n",
      "47585                         2  \n",
      "47586                         7  \n",
      "\n",
      "[47587 rows x 5 columns]\n"
     ]
    }
   ],
   "source": [
    "Outbreaks_Ontario = pd.read_csv(\"F:\\Shivam\\Academics_Term 1\\Big Data Fundamentals\\Project\\ongoing_outbreaks_phu.csv\")\n",
    "print (Outbreaks_Ontario)"
   ]
  },
  {
   "cell_type": "markdown",
   "id": "9f9b8ff3",
   "metadata": {},
   "source": [
    "**Understanding the datatypes from the Dataset**"
   ]
  },
  {
   "cell_type": "code",
   "execution_count": 30,
   "id": "98e8cfa6",
   "metadata": {},
   "outputs": [
    {
     "data": {
      "text/plain": [
       "date                        object\n",
       "phu_name                    object\n",
       "phu_num                      int64\n",
       "outbreak_group              object\n",
       "number_ongoing_outbreaks     int64\n",
       "dtype: object"
      ]
     },
     "execution_count": 30,
     "metadata": {},
     "output_type": "execute_result"
    }
   ],
   "source": [
    "Outbreaks_Ontario.dtypes"
   ]
  },
  {
   "cell_type": "markdown",
   "id": "99dec204",
   "metadata": {},
   "source": [
    "**To check missing values within the Dataset**"
   ]
  },
  {
   "cell_type": "code",
   "execution_count": 31,
   "id": "3aa5d036",
   "metadata": {},
   "outputs": [
    {
     "name": "stdout",
     "output_type": "stream",
     "text": [
      "<class 'pandas.core.frame.DataFrame'>\n",
      "RangeIndex: 47587 entries, 0 to 47586\n",
      "Data columns (total 5 columns):\n",
      " #   Column                    Non-Null Count  Dtype \n",
      "---  ------                    --------------  ----- \n",
      " 0   date                      47587 non-null  object\n",
      " 1   phu_name                  47587 non-null  object\n",
      " 2   phu_num                   47587 non-null  int64 \n",
      " 3   outbreak_group            47587 non-null  object\n",
      " 4   number_ongoing_outbreaks  47587 non-null  int64 \n",
      "dtypes: int64(2), object(3)\n",
      "memory usage: 1.8+ MB\n"
     ]
    }
   ],
   "source": [
    "Outbreaks_Ontario.info()"
   ]
  },
  {
   "cell_type": "markdown",
   "id": "a5a1cb16",
   "metadata": {},
   "source": [
    "## Finding Insights using Pandas\n",
    "\n",
    "*Since now we know how the dataframe looks for the ongoing Covid-19 data for Ontario province, we are going to find some valuable insights which will help us understand the data and take suitable actions for the ongoing situatuon*"
   ]
  },
  {
   "cell_type": "markdown",
   "id": "6624a0c6",
   "metadata": {},
   "source": [
    "## 1. To find the number of active Covid - 19 cases as of the current date\n",
    "\n",
    "\n",
    "**Active cases as of 2022-03-15, that is the cases which have not been recovered yet**\n",
    "\n",
    "*Assuming that the patients who contracted Covid-19 in the last 7 days are not recovered yet and have the potential of spreading the virus. Hence, they are defined as active cases as of today's date.*\n"
   ]
  },
  {
   "cell_type": "code",
   "execution_count": 32,
   "id": "597b6a34",
   "metadata": {},
   "outputs": [
    {
     "name": "stdout",
     "output_type": "stream",
     "text": [
      "             date                    phu_name  phu_num       outbreak_group  \\\n",
      "47017  2022-03-06             ALGOMA DISTRICT     2226       5 Recreational   \n",
      "47018  2022-03-06             ALGOMA DISTRICT     2226    1 Congregate Care   \n",
      "47019  2022-03-06             ALGOMA DISTRICT     2226  2 Congregate Living   \n",
      "47020  2022-03-06                BRANT COUNTY     2227  2 Congregate Living   \n",
      "47021  2022-03-06                CHATHAM-KENT     2240    1 Congregate Care   \n",
      "...           ...                         ...      ...                  ...   \n",
      "47582  2022-03-14  WELLINGTON-DUFFERIN-GUELPH     2266    1 Congregate Care   \n",
      "47583  2022-03-14        WINDSOR-ESSEX COUNTY     2268  2 Congregate Living   \n",
      "47584  2022-03-14        WINDSOR-ESSEX COUNTY     2268    1 Congregate Care   \n",
      "47585  2022-03-14                 YORK REGION     2270  2 Congregate Living   \n",
      "47586  2022-03-14                 YORK REGION     2270    1 Congregate Care   \n",
      "\n",
      "       number_ongoing_outbreaks  \n",
      "47017                         1  \n",
      "47018                         3  \n",
      "47019                         2  \n",
      "47020                         1  \n",
      "47021                         4  \n",
      "...                         ...  \n",
      "47582                         3  \n",
      "47583                         5  \n",
      "47584                         5  \n",
      "47585                         2  \n",
      "47586                         7  \n",
      "\n",
      "[570 rows x 5 columns]\n",
      "The number of total active cases in Ontario is  1890\n"
     ]
    }
   ],
   "source": [
    "df = Outbreaks_Ontario\n",
    "\n",
    "last_seven_days = df. loc[(df[\"date\"] >= \"2022-03-06\") & (df[\"date\"] <= \"2022-03-14\")]\n",
    "print(last_seven_days)\n",
    "\n",
    "active_cases = last_seven_days[\"number_ongoing_outbreaks\"]. sum()\n",
    "print('The number of total active cases in Ontario is ', active_cases)"
   ]
  },
  {
   "cell_type": "markdown",
   "id": "1993875a",
   "metadata": {},
   "source": [
    "#### The number of total active cases in Ontario is 1890.\n"
   ]
  },
  {
   "cell_type": "markdown",
   "id": "9b2693f8",
   "metadata": {},
   "source": [
    "## 2. To find the group with most active cases in the last 7 days in Ontario.\n",
    "\n",
    "*This will give an important insight about the super-spreader or the most affected group in order to take prescriptive steps accordingly.* "
   ]
  },
  {
   "cell_type": "code",
   "execution_count": 33,
   "id": "7ff53b87",
   "metadata": {},
   "outputs": [
    {
     "name": "stdout",
     "output_type": "stream",
     "text": [
      "                     number_ongoing_outbreaks\n",
      "outbreak_group                               \n",
      "1 Congregate Care                        1140\n",
      "2 Congregate Living                       623\n",
      "3 Education                                68\n",
      "4 Workplace                                35\n",
      "6 Other/Unknown                            18\n",
      "5 Recreational                              6 \n",
      "\n",
      "The group with maximum number of active cases in Ontario is Congregate Care:  number_ongoing_outbreaks    1140\n",
      "dtype: int64\n"
     ]
    }
   ],
   "source": [
    "last_seven_days = df. loc[(df[\"date\"] >= \"2022-03-06\") & (df[\"date\"] <= \"2022-03-14\")]\n",
    "\n",
    "max_cases_group = last_seven_days.groupby(['outbreak_group']).sum()\n",
    "max_cases_group = max_cases_group.drop('phu_num', axis = 1)\n",
    "max_cases_group_desc = max_cases_group.sort_values('number_ongoing_outbreaks', ascending=False)\n",
    "\n",
    "print(max_cases_group_desc, \"\\n\")\n",
    "max_num = max_cases_group_desc.max()\n",
    "print(\"The group with maximum number of active cases in Ontario is Congregate Care: \", max_num)"
   ]
  },
  {
   "cell_type": "markdown",
   "id": "96b64cc0",
   "metadata": {},
   "source": [
    "#### The group with maximum number of active cases in Ontario is Congregate Care with 1140 active cases.\n"
   ]
  },
  {
   "cell_type": "markdown",
   "id": "493437ae",
   "metadata": {},
   "source": [
    "## 3. Focussing on most affected region and group.\n",
    "\n",
    "- #### To find the region with maximum number of cases in the last 7 days.\n"
   ]
  },
  {
   "cell_type": "code",
   "execution_count": 65,
   "id": "7f3f4da3",
   "metadata": {},
   "outputs": [
    {
     "name": "stdout",
     "output_type": "stream",
     "text": [
      "                                         number_ongoing_outbreaks\n",
      "phu_name                                                         \n",
      "TORONTO                                                       210\n",
      "SIMCOE MUSKOKA DISTRICT                                       160\n",
      "CITY OF OTTAWA                                                112\n",
      "WINDSOR-ESSEX COUNTY                                          111\n",
      "YORK REGION                                                   106\n",
      "SUDBURY AND DISTRICT                                           96\n",
      "MIDDLESEX-LONDON                                               91\n",
      "KINGSTON, FRONTENAC, LENNOX & ADDINGTON                        71\n",
      "HASTINGS & PRINCE EDWARD COUNTIES                              67\n",
      "RENFREW COUNTY AND DISTRICT                                    59\n",
      "PEEL REGION                                                    59\n",
      "GREY BRUCE                                                     57\n",
      "WATERLOO REGION                                                55\n",
      "DURHAM REGION                                                  55\n",
      "THUNDER BAY DISTRICT                                           53\n",
      "NORTH BAY PARRY SOUND DISTRICT                                 47\n",
      "NIAGARA REGION                                                 47\n",
      "PETERBOROUGH COUNTY-CITY                                       46\n",
      "CITY OF HAMILTON                                               46\n",
      "WELLINGTON-DUFFERIN-GUELPH                                     43\n",
      "ALGOMA DISTRICT                                                42\n",
      "CHATHAM-KENT                                                   38\n",
      "PORCUPINE                                                      38\n",
      "OXFORD ELGIN-ST.THOMAS                                         37\n",
      "LEEDS, GRENVILLE AND LANARK DISTRICT                           37\n",
      "HALIBURTON, KAWARTHA, PINE RIDGE                               22\n",
      "HALTON REGION                                                  16\n",
      "EASTERN ONTARIO                                                14\n",
      "HURON PERTH                                                    14\n",
      "LAMBTON COUNTY                                                 13\n",
      "NORTHWESTERN                                                    9\n",
      "HALDIMAND-NORFOLK                                               8\n",
      "BRANT COUNTY                                                    8\n",
      "TIMISKAMING                                                     3 \n",
      "\n",
      "The region with maximum number of active cases is Toronto:  number_ongoing_outbreaks    210\n",
      "dtype: int64\n"
     ]
    }
   ],
   "source": [
    "last_seven_days = df. loc[(df[\"date\"] >= \"2022-03-06\") & (df[\"date\"] <= \"2022-03-14\")]\n",
    "\n",
    "max_cases_region = last_seven_days.groupby(['phu_name']).sum('number_ongoing_outbreaks')\n",
    "max_cases_region = max_cases_region.drop('phu_num', axis = 1)\n",
    "max_cases_region_desc = max_cases_region.sort_values('number_ongoing_outbreaks', ascending=False)\n",
    "print (max_cases_region_desc, \"\\n\")\n",
    "\n",
    "max_num = max_cases_region_desc.max()\n",
    "print(\"The region with maximum number of active cases is Toronto: \", max_num)"
   ]
  },
  {
   "cell_type": "markdown",
   "id": "0a46f279",
   "metadata": {},
   "source": [
    "#### Toronto is the region with maximum number of active cases in Ontario with 210 active cases."
   ]
  },
  {
   "cell_type": "markdown",
   "id": "d1f991d2",
   "metadata": {},
   "source": [
    "- #### To find the group within *Toronto* which is most affected by the virus."
   ]
  },
  {
   "cell_type": "code",
   "execution_count": 66,
   "id": "aaa30a04",
   "metadata": {},
   "outputs": [
    {
     "name": "stdout",
     "output_type": "stream",
     "text": [
      "The group with maximum number of active cases in Toronto is Congregate Care: 142 \n",
      "\n",
      "                      number_ongoing_outbreaks\n",
      "outbreak_group                               \n",
      "1 Congregate Care                         142\n",
      "2 Congregate Living                        42\n",
      "4 Workplace                                17\n",
      "6 Other/Unknown                             9\n"
     ]
    }
   ],
   "source": [
    "df = Outbreaks_Ontario\n",
    "last_seven_days = df. loc[(df[\"date\"] >= \"2022-03-06\") & (df[\"date\"] <= \"2022-03-14\")]\n",
    "\n",
    "max_cases_group_Toronto = last_seven_days[last_seven_days.phu_name == \"TORONTO\"]\n",
    "max_cases_Toronto_groupwise = max_cases_group_Toronto.groupby('outbreak_group').sum('number_ongoing_outbreaks')\n",
    "max_cases_Toronto_groupwise = max_cases_Toronto_groupwise. drop (columns = 'phu_num', axis = 1)\n",
    "print(\"The group with maximum number of active cases in Toronto is Congregate Care: 142 \\n\\n\", max_cases_Toronto_groupwise)"
   ]
  },
  {
   "cell_type": "markdown",
   "id": "375fb2bc",
   "metadata": {},
   "source": [
    "#### The group most affected by Covid-19 in Toronto is Congregate Care with 142 cases."
   ]
  },
  {
   "cell_type": "markdown",
   "id": "88f58362",
   "metadata": {},
   "source": [
    "## 4. To Plot the graph for the whole Covid-19 Dataset and analyze the trend to get a better understanding of the current situation as compared to the historic average.\n",
    "\n"
   ]
  },
  {
   "cell_type": "code",
   "execution_count": 67,
   "id": "ee5aab29",
   "metadata": {},
   "outputs": [],
   "source": [
    "import matplotlib.pyplot as plt\n",
    "\n",
    "Outbreaks_Ontario = pd.read_csv(\"F:\\Shivam\\Academics_Term 1\\Big Data Fundamentals\\Project\\ongoing_outbreaks_phu.csv\")"
   ]
  },
  {
   "cell_type": "code",
   "execution_count": 68,
   "id": "b2d684c4",
   "metadata": {},
   "outputs": [
    {
     "data": {
      "image/png": "[encoded data removed]",
      "text/plain": [
       "<Figure size 432x288 with 1 Axes>"
      ]
     },
     "metadata": {
      "needs_background": "light"
     },
     "output_type": "display_data"
    }
   ],
   "source": [
    "Outbreaks_Ontario.plot(x ='date', y='number_ongoing_outbreaks', kind = 'line')\n",
    "plt.show()"
   ]
  },
  {
   "cell_type": "markdown",
   "id": "266fa07f",
   "metadata": {},
   "source": [
    "- **To find the historic mean of the daily outbreaks since the beginning of Covid-19 as per the Dataset**"
   ]
  },
  {
   "cell_type": "code",
   "execution_count": 69,
   "id": "86f81a36",
   "metadata": {},
   "outputs": [
    {
     "name": "stdout",
     "output_type": "stream",
     "text": [
      "            number_ongoing_outbreaks\n",
      "date                                \n",
      "2020-11-01                       460\n",
      "2020-11-02                       460\n",
      "2020-11-03                       473\n",
      "2020-11-04                       491\n",
      "2020-11-05                       502\n",
      "...                              ...\n",
      "2022-03-10                       203\n",
      "2022-03-11                       203\n",
      "2022-03-12                       201\n",
      "2022-03-13                       204\n",
      "2022-03-14                       203\n",
      "\n",
      "[499 rows x 1 columns]\n",
      "number_ongoing_outbreaks    545.012024\n",
      "dtype: float64\n"
     ]
    }
   ],
   "source": [
    "Outbreaks_Ontario = Outbreaks_Ontario.groupby('date').sum('number_ongoing_outbreaks')\n",
    "Outbreaks_Ontario_ = Outbreaks_Ontario.drop('phu_num', axis = 1)\n",
    "Outbreaks_Ontario_Mean = Outbreaks_Ontario_.mean() \n",
    "print (Outbreaks_Ontario_)\n",
    "print (Outbreaks_Ontario_Mean)"
   ]
  },
  {
   "cell_type": "markdown",
   "id": "0cc4f79a",
   "metadata": {},
   "source": [
    "###### *545 cases were registerd on an average per day according to this Dataset for Ontario.*"
   ]
  },
  {
   "cell_type": "markdown",
   "id": "3a8d2b16",
   "metadata": {},
   "source": [
    "- **To find the mean of the daily outbreaks for the month of March as per the Dataset**"
   ]
  },
  {
   "cell_type": "code",
   "execution_count": 70,
   "id": "6d8e9965",
   "metadata": {},
   "outputs": [
    {
     "name": "stdout",
     "output_type": "stream",
     "text": [
      "            number_ongoing_outbreaks\n",
      "date                                \n",
      "2022-03-01                       270\n",
      "2022-03-02                       246\n",
      "2022-03-03                       240\n",
      "2022-03-04                       237\n",
      "2022-03-05                       240\n",
      "2022-03-06                       230\n",
      "2022-03-07                       227\n",
      "2022-03-08                       217\n",
      "2022-03-09                       202\n",
      "2022-03-10                       203\n",
      "2022-03-11                       203\n",
      "2022-03-12                       201\n",
      "2022-03-13                       204\n",
      "2022-03-14                       203\n",
      "number_ongoing_outbreaks    223.071429\n",
      "dtype: float64\n"
     ]
    }
   ],
   "source": [
    "Outbreaks_Ontario = pd.read_csv(\"F:\\Shivam\\Academics_Term 1\\Big Data Fundamentals\\Project\\ongoing_outbreaks_phu.csv\")\n",
    "df = Outbreaks_Ontario\n",
    "\n",
    "Outbreaks_March_Ontario = df. loc[(df[\"date\"] >= \"2022-03-01\") & (df[\"date\"] <= \"2022-03-14\")]\n",
    "Outbreaks_March_Ontario = Outbreaks_March_Ontario.groupby('date').sum('number_ongoing_outbreaks')\n",
    "Outbreaks_March_Ontario = Outbreaks_March_Ontario.drop('phu_num', axis = 1)\n",
    "Outbreaks_March_Ontario_Mean = Outbreaks_March_Ontario.mean()\n",
    "\n",
    "print (Outbreaks_March_Ontario)\n",
    "print (Outbreaks_March_Ontario_Mean)"
   ]
  },
  {
   "cell_type": "markdown",
   "id": "763e1681",
   "metadata": {},
   "source": [
    "###### *223 cases were registerd on an average per day in the Month of March according to this Dataset for Ontario.*"
   ]
  },
  {
   "cell_type": "markdown",
   "id": "1d463163",
   "metadata": {},
   "source": [
    "**To conclude, we can say that the number of cases regisered per day as of the latest updated dataset is 50% of the historic average. This means the situation is getting under control which can be seen from the above graph as well.**"
   ]
  },
  {
   "cell_type": "markdown",
   "id": "b68ba48f",
   "metadata": {},
   "source": [
    "# 5. To Visualize the data about affected groups in Ontario"
   ]
  },
  {
   "cell_type": "code",
   "execution_count": 71,
   "id": "00e740f6",
   "metadata": {},
   "outputs": [],
   "source": [
    "Outbreaks_Ontario = pd.read_csv(\"F:\\Shivam\\Academics_Term 1\\Big Data Fundamentals\\Project\\ongoing_outbreaks_phu.csv\")"
   ]
  },
  {
   "cell_type": "code",
   "execution_count": 72,
   "id": "64137ee2",
   "metadata": {},
   "outputs": [
    {
     "name": "stdout",
     "output_type": "stream",
     "text": [
      "                     number_ongoing_outbreaks\n",
      "outbreak_group                               \n",
      "1 Congregate Care                       90964\n",
      "2 Congregate Living                     42918\n",
      "3 Education                             57655\n",
      "4 Workplace                             58097\n",
      "5 Recreational                          14742\n",
      "6 Other/Unknown                          7585\n"
     ]
    }
   ],
   "source": [
    "df  = Outbreaks_Ontario.groupby('outbreak_group').sum('number_ongoing_outbreaks')\n",
    "df  = df.drop(columns = 'phu_num', axis = 1)\n",
    "\n",
    "print (df)"
   ]
  },
  {
   "cell_type": "code",
   "execution_count": 73,
   "id": "ee1265c2",
   "metadata": {},
   "outputs": [
    {
     "data": {
      "text/plain": [
       "<matplotlib.legend.Legend at 0x1f532562760>"
      ]
     },
     "execution_count": 73,
     "metadata": {},
     "output_type": "execute_result"
    },
    {
     "data": {
      "image/png": "[encoded data removed]",
      "text/plain": [
       "<Figure size 432x288 with 1 Axes>"
      ]
     },
     "metadata": {},
     "output_type": "display_data"
    }
   ],
   "source": [
    "df.plot(label = '', title = \"Groupwise breakdown of all registered cases in Ontario\", kind = \"pie\", y = \"number_ongoing_outbreaks\", legend = 1, radius = 2, shadow = True, autopct = \"%1.1f%%\", startangle = 60, explode = [0.1,0.1,0.1,0.1,0.1,0.1])\n",
    "plt.legend(loc = 6)"
   ]
  }
 ],
 "metadata": {
  "kernelspec": {
   "display_name": "Python 3 (ipykernel)",
   "language": "python",
   "name": "python3"
  },
  "language_info": {
   "codemirror_mode": {
    "name": "ipython",
    "version": 3
   },
   "file_extension": ".py",
   "mimetype": "text/x-python",
   "name": "python",
   "nbconvert_exporter": "python",
   "pygments_lexer": "ipython3",
   "version": "3.9.7"
  }
 },
 "nbformat": 4,
 "nbformat_minor": 5
}
